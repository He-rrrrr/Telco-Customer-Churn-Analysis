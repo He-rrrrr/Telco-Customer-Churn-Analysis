{
 "cells": [
  {
   "attachments": {},
   "cell_type": "markdown",
   "metadata": {},
   "source": [
    "# 电信用户流失分析、预测及用户管理"
   ]
  },
  {
   "attachments": {},
   "cell_type": "markdown",
   "metadata": {},
   "source": [
    "贺睿睿"
   ]
  },
  {
   "attachments": {},
   "cell_type": "markdown",
   "metadata": {},
   "source": [
    "## 1. 研究背景"
   ]
  },
  {
   "attachments": {},
   "cell_type": "markdown",
   "metadata": {},
   "source": [
    "近年来，不论是传统行业还是互联网行业，都面临着用户流失问题。研究表明，企业可以在一周内失去100个用户，而同时又得到另外的用户，从表面上来看业绩没有受到任何影响，而实际上争取这些新用户所花费的宣传、促销等成本显然要比保持老用户昂贵的多，从企业投资回报程度的角度来看是非常不经济的。\n",
    "\n",
    "随着运营商的竞争不断加剧，电信运营商亟需提高用户留存率、增加用户黏性，减少客户流失。因此，维护好现有的客户，降低用户流失率对每个产品都至关重要。为了更好降低用户流失率，需要了解用户流失的特征，分析用户流失原因，制定有效方案。"
   ]
  },
  {
   "attachments": {},
   "cell_type": "markdown",
   "metadata": {},
   "source": [
    "## 2. 研究设计"
   ]
  },
  {
   "attachments": {},
   "cell_type": "markdown",
   "metadata": {},
   "source": [
    "### 2.1 研究目的"
   ]
  },
  {
   "attachments": {},
   "cell_type": "markdown",
   "metadata": {},
   "source": [
    "为了更好的降低用户流失率，需要了解易流失用户的特征，分析原因，制定相关应对方案。另外需要进行用户细分，对不同特征人群制定个性化方案。\n",
    "\n",
    "本研究将建立模型，探究影响用户流失的因素，预测用户流失，根据模型进行用户细分。"
   ]
  },
  {
   "attachments": {},
   "cell_type": "markdown",
   "metadata": {},
   "source": [
    "### 2.2 数据来源"
   ]
  },
  {
   "attachments": {},
   "cell_type": "markdown",
   "metadata": {},
   "source": [
    "数据来自kaggle电信用户流失(https://www.kaggle.com/datasets/blastchar/telco-customer-churn)。共有7043个用户数据，每个用户有21个特征，包括：编号，注册服务，用户信息，是否流失等。"
   ]
  },
  {
   "attachments": {},
   "cell_type": "markdown",
   "metadata": {},
   "source": [
    "## 3. 数据预处理"
   ]
  },
  {
   "cell_type": "code",
   "execution_count": 1,
   "metadata": {},
   "outputs": [],
   "source": [
    "import numpy as np\n",
    "import pandas as pd\n",
    "import warnings\n",
    "import matplotlib\n",
    "import matplotlib.pyplot as plt\n",
    "import seaborn as sns\n",
    "from plotnine import *\n",
    "from sklearn.model_selection import train_test_split\n",
    "from sklearn.preprocessing import LabelEncoder\n",
    "from sklearn.metrics import classification_report\n",
    "from sklearn.metrics import confusion_matrix,precision_score,accuracy_score,recall_score,f1_score\n",
    "from sklearn.linear_model import LogisticRegression\n",
    "from sklearn.discriminant_analysis import LinearDiscriminantAnalysis\n",
    "from sklearn import neighbors\n",
    "from sklearn.metrics import roc_auc_score\n",
    "from sklearn.metrics import roc_curve\n",
    "\n",
    "warnings.filterwarnings(\"ignore\")\n",
    "#显示中文\n",
    "plt.rcParams['font.sans-serif']=['SimHei']\n",
    "#显示负号\n",
    "plt.rcParams['axes.unicode_minus'] = False"
   ]
  },
  {
   "cell_type": "code",
   "execution_count": 2,
   "metadata": {},
   "outputs": [
    {
     "name": "stdout",
     "output_type": "stream",
     "text": [
      "<class 'pandas.core.frame.DataFrame'>\n",
      "RangeIndex: 7043 entries, 0 to 7042\n",
      "Data columns (total 21 columns):\n",
      " #   Column            Non-Null Count  Dtype  \n",
      "---  ------            --------------  -----  \n",
      " 0   customerID        7043 non-null   object \n",
      " 1   gender            7043 non-null   object \n",
      " 2   SeniorCitizen     7043 non-null   int64  \n",
      " 3   Partner           7043 non-null   object \n",
      " 4   Dependents        7043 non-null   object \n",
      " 5   tenure            7043 non-null   int64  \n",
      " 6   PhoneService      7043 non-null   object \n",
      " 7   MultipleLines     7043 non-null   object \n",
      " 8   InternetService   7043 non-null   object \n",
      " 9   OnlineSecurity    7043 non-null   object \n",
      " 10  OnlineBackup      7043 non-null   object \n",
      " 11  DeviceProtection  7043 non-null   object \n",
      " 12  TechSupport       7043 non-null   object \n",
      " 13  StreamingTV       7043 non-null   object \n",
      " 14  StreamingMovies   7043 non-null   object \n",
      " 15  Contract          7043 non-null   object \n",
      " 16  PaperlessBilling  7043 non-null   object \n",
      " 17  PaymentMethod     7043 non-null   object \n",
      " 18  MonthlyCharges    7043 non-null   float64\n",
      " 19  TotalCharges      7043 non-null   object \n",
      " 20  Churn             7043 non-null   object \n",
      "dtypes: float64(1), int64(2), object(18)\n",
      "memory usage: 1.1+ MB\n"
     ]
    }
   ],
   "source": [
    "#读入数据\n",
    "data = pd.read_csv('WA_Fn-UseC_-Telco-Customer-Churn.csv')\n",
    "data.info()"
   ]
  },
  {
   "cell_type": "code",
   "execution_count": 3,
   "metadata": {},
   "outputs": [],
   "source": [
    "# 处理TotalCharges，含空值\n",
    "data['TotalCharges'].replace(' ', np.nan, inplace=True)\n",
    "data['TotalCharges'] = data['TotalCharges'].astype('float')\n",
    "\n",
    "#替换No phone service为No\n",
    "replace_list=['OnlineSecurity','OnlineBackup','DeviceProtection','TechSupport','StreamingTV','StreamingMovies']\n",
    "for i in replace_list:\n",
    "    data[i]=data[i].str.replace('No internet service','No')\n",
    "data['MultipleLines']=data['MultipleLines'].str.replace('No phone service','No')\n",
    "\n",
    "#替换0，1为No，Yes\n",
    "data.SeniorCitizen=data.SeniorCitizen.replace({0:'No',1:'Yes'})"
   ]
  },
  {
   "cell_type": "code",
   "execution_count": 4,
   "metadata": {},
   "outputs": [
    {
     "data": {
      "text/plain": [
       "0"
      ]
     },
     "execution_count": 4,
     "metadata": {},
     "output_type": "execute_result"
    }
   ],
   "source": [
    "#删除空值\n",
    "data.dropna(inplace=True)\n",
    "#查看重复值\n",
    "data.duplicated().sum()"
   ]
  },
  {
   "cell_type": "code",
   "execution_count": 5,
   "metadata": {},
   "outputs": [
    {
     "name": "stdout",
     "output_type": "stream",
     "text": [
      "<class 'pandas.core.frame.DataFrame'>\n",
      "Int64Index: 7032 entries, 0 to 7042\n",
      "Data columns (total 21 columns):\n",
      " #   Column            Non-Null Count  Dtype  \n",
      "---  ------            --------------  -----  \n",
      " 0   customerID        7032 non-null   object \n",
      " 1   gender            7032 non-null   object \n",
      " 2   SeniorCitizen     7032 non-null   object \n",
      " 3   Partner           7032 non-null   object \n",
      " 4   Dependents        7032 non-null   object \n",
      " 5   tenure            7032 non-null   int64  \n",
      " 6   PhoneService      7032 non-null   object \n",
      " 7   MultipleLines     7032 non-null   object \n",
      " 8   InternetService   7032 non-null   object \n",
      " 9   OnlineSecurity    7032 non-null   object \n",
      " 10  OnlineBackup      7032 non-null   object \n",
      " 11  DeviceProtection  7032 non-null   object \n",
      " 12  TechSupport       7032 non-null   object \n",
      " 13  StreamingTV       7032 non-null   object \n",
      " 14  StreamingMovies   7032 non-null   object \n",
      " 15  Contract          7032 non-null   object \n",
      " 16  PaperlessBilling  7032 non-null   object \n",
      " 17  PaymentMethod     7032 non-null   object \n",
      " 18  MonthlyCharges    7032 non-null   float64\n",
      " 19  TotalCharges      7032 non-null   float64\n",
      " 20  Churn             7032 non-null   object \n",
      "dtypes: float64(2), int64(1), object(18)\n",
      "memory usage: 1.2+ MB\n"
     ]
    }
   ],
   "source": [
    "data.info()"
   ]
  },
  {
   "attachments": {},
   "cell_type": "markdown",
   "metadata": {},
   "source": [
    "## 4. 可视化分析"
   ]
  },
  {
   "cell_type": "code",
   "execution_count": 6,
   "metadata": {},
   "outputs": [
    {
     "data": {
      "text/plain": [
       "0.26578498293515357"
      ]
     },
     "execution_count": 6,
     "metadata": {},
     "output_type": "execute_result"
    }
   ],
   "source": [
    "df_Churn=data[data['Churn']=='Yes']#流失客户\n",
    "Rate_Churn=data[data['Churn']=='Yes'].shape[0]/data['Churn'].shape[0]\n",
    "#总流失率\n",
    "Rate_Churn"
   ]
  },
  {
   "attachments": {},
   "cell_type": "markdown",
   "metadata": {},
   "source": [
    "#### 用户属性与用户流失率"
   ]
  },
  {
   "cell_type": "code",
   "execution_count": 7,
   "metadata": {},
   "outputs": [
    {
     "data": {
      "image/png": "[encoded data removed]",
      "text/plain": [
       "<Figure size 1080x1080 with 4 Axes>"
      ]
     },
     "metadata": {
      "needs_background": "light"
     },
     "output_type": "display_data"
    }
   ],
   "source": [
    "fig,axes=plt.subplots(2,2,figsize=(15,15))\n",
    "for i ,j in enumerate(['gender','SeniorCitizen','Partner','Dependents']):\n",
    "    plt.subplot(2,2,i+1)\n",
    "    ax=sns.countplot(x=j,hue='Churn',data=data,palette=\"Set2\",order=df_Churn.groupby(j)['Churn'].value_counts().index.levels[0])\n",
    "    plt.title(str(j), fontsize=20)\n",
    "    plt.xlabel('Churn',fontsize=15)\n",
    "    plt.xticks(fontsize=15)\n",
    "    plt.legend(fontsize=15)\n",
    "    lent=df_Churn.groupby(j)['Churn'].value_counts().shape[0]\n",
    "    for p in range(lent):\n",
    "        Rate=df_Churn.groupby(j)['Churn'].value_counts()[p]/data.groupby(j,as_index=False)['Churn'].size().loc[p,'size']   \n",
    "        plt.text(p,100,'流失率{:.2%}'.format(Rate),fontsize=12)\n",
    "    i+=1"
   ]
  },
  {
   "cell_type": "code",
   "execution_count": 8,
   "metadata": {},
   "outputs": [
    {
     "data": {
      "image/png": "[encoded data removed]",
      "text/plain": [
       "<Figure size 640x480 with 1 Axes>"
      ]
     },
     "metadata": {},
     "output_type": "display_data"
    },
    {
     "data": {
      "text/plain": [
       "<ggplot: (-9223371924969567808)>"
      ]
     },
     "execution_count": 8,
     "metadata": {},
     "output_type": "execute_result"
    }
   ],
   "source": [
    "(ggplot(data, aes(x = 'Churn', y = 'tenure',  fill = 'Churn')) + geom_boxplot())"
   ]
  },
  {
   "attachments": {},
   "cell_type": "markdown",
   "metadata": {},
   "source": [
    "- 是否经济独立、是否有伴侣、是否老年用户和入网时间这四个属性对用户流失率有很大影响;性别对用户流失没有显著影响。\n",
    "\n",
    "- 经济不独立、没有伴侣的老年用户容易流失。\n",
    "\n",
    "- 流失客户的入网时间较短，平均为10个月，且呈右偏分布；入网时间越长，客户流失率越低。"
   ]
  },
  {
   "attachments": {},
   "cell_type": "markdown",
   "metadata": {},
   "source": [
    "#### 服务属性与用户流失率"
   ]
  },
  {
   "cell_type": "code",
   "execution_count": 9,
   "metadata": {},
   "outputs": [],
   "source": [
    "data_ser = data.loc[:,('PhoneService', 'MultipleLines','OnlineSecurity','OnlineBackup', 'DeviceProtection', 'TechSupport','StreamingTV', 'StreamingMovies','Churn')]\n",
    "data_ser = pd.melt(data_ser, id_vars =['Churn'])\n",
    "data_ser.Churn = data_ser.Churn.replace({'No':0,'Yes':1})\n",
    "data_ser = data_ser.groupby(['variable','value'],as_index=False).agg([np.sum, np.size]).reset_index()"
   ]
  },
  {
   "cell_type": "code",
   "execution_count": 10,
   "metadata": {},
   "outputs": [
    {
     "data": {
      "image/png": "[encoded data removed]",
      "text/plain": [
       "<Figure size 1000x500 with 1 Axes>"
      ]
     },
     "metadata": {},
     "output_type": "display_data"
    },
    {
     "data": {
      "text/plain": [
       "<ggplot: (-9223371924969746648)>"
      ]
     },
     "execution_count": 10,
     "metadata": {},
     "output_type": "execute_result"
    }
   ],
   "source": [
    "(ggplot(data_ser, aes(x = 'variable', y = data_ser['Churn']['sum']/data_ser['Churn']['size'] ,fill = 'value'))\n",
    "+ geom_col(stat='identity',position=\"dodge\", width = 0.65, alpha = 0.9)\n",
    "+ theme(dpi = 100,figure_size = (10,5), legend_title = element_text(color='white'))\n",
    "+ xlab(' ')\n",
    "+ ylab('Churn Percentages')\n",
    ")"
   ]
  },
  {
   "attachments": {},
   "cell_type": "markdown",
   "metadata": {},
   "source": [
    "- 手机服务中，订购PhoneService的用户群流失率基本上与整体流失率持平，订购MultipleLines的流失率比整体流失率高；\n",
    "- 网络服务中\n",
    "\n",
    "    1.其中技术性服务（OnlineSecurity、OnlineBackup、DeviceProtection、TechSupport）中订购的用户流失率均比整体流失率低，而未订购的则高出整体流失率不少。\n",
    "\n",
    "    2.其中在娱乐性服务（StreamingTV、StreamingMovies）上，订购的流失率都比整体流失率高。"
   ]
  },
  {
   "attachments": {},
   "cell_type": "markdown",
   "metadata": {},
   "source": [
    "#### 合同属性与用户流失率"
   ]
  },
  {
   "cell_type": "code",
   "execution_count": 11,
   "metadata": {},
   "outputs": [],
   "source": [
    "data_con = data.loc[:,('Contract','Churn')]\n",
    "data_con = data_con.groupby(['Contract','Churn']).size().reset_index()\n",
    "data_con.columns = ['Contract','Churn','size']\n",
    "data_con.Churn = data_con.Churn.replace({0:'No', 1:'Yes'})"
   ]
  },
  {
   "cell_type": "code",
   "execution_count": 12,
   "metadata": {},
   "outputs": [
    {
     "data": {
      "image/png": "[encoded data removed]",
      "text/plain": [
       "<Figure size 1000x500 with 1 Axes>"
      ]
     },
     "metadata": {},
     "output_type": "display_data"
    },
    {
     "data": {
      "text/plain": [
       "<ggplot: (-9223371924969567836)>"
      ]
     },
     "execution_count": 12,
     "metadata": {},
     "output_type": "execute_result"
    }
   ],
   "source": [
    "(ggplot(data_con, aes(x = 'Contract', y = data_con['size'], fill = 'Churn'))\n",
    "+ geom_bar(stat='identity',position = 'fill',width = 0.65, alpha = 0.9)\n",
    "+ theme(dpi = 100,figure_size = (10,5), legend_title = element_text())\n",
    "+ xlab(' ')\n",
    "+ ylab('Churn Percentage')\n",
    ")"
   ]
  },
  {
   "cell_type": "code",
   "execution_count": 13,
   "metadata": {},
   "outputs": [
    {
     "data": {
      "image/png": "[encoded data removed]",
      "text/plain": [
       "<Figure size 640x480 with 1 Axes>"
      ]
     },
     "metadata": {},
     "output_type": "display_data"
    },
    {
     "data": {
      "text/plain": [
       "<ggplot: (-9223371924969464708)>"
      ]
     },
     "execution_count": 13,
     "metadata": {},
     "output_type": "execute_result"
    }
   ],
   "source": [
    "(ggplot(data, aes(x = 'Churn', y = 'MonthlyCharges',  fill = 'Churn')) + geom_boxplot())"
   ]
  },
  {
   "attachments": {},
   "cell_type": "markdown",
   "metadata": {},
   "source": [
    "在合同方面\n",
    "- 按月签约的客户流失率最高，并且签约时间越长，客户流失率越低，即按月签约的客户对产品的粘性不高。\n",
    "- 流失用户的主要来源是月消费80-100元的用户。"
   ]
  },
  {
   "attachments": {},
   "cell_type": "markdown",
   "metadata": {},
   "source": [
    "## 5. 建模分析"
   ]
  },
  {
   "cell_type": "code",
   "execution_count": 14,
   "metadata": {},
   "outputs": [],
   "source": [
    "for column in data.columns:\n",
    "    if data[column].dtype == np.number:\n",
    "        continue\n",
    "    data[column] = LabelEncoder().fit_transform(data[column])"
   ]
  },
  {
   "cell_type": "code",
   "execution_count": 15,
   "metadata": {},
   "outputs": [],
   "source": [
    "X = data.drop(['customerID','Churn'], axis = 1)\n",
    "Y = data.Churn.replace({'No':0,'Yes':1})\n",
    "#one-hot 编码\n",
    "X = pd.get_dummies(X)\n",
    "\n",
    "#划分训练集测试集\n",
    "X_train, X_test, Y_train, Y_test = train_test_split(X, Y, test_size = 0.3, random_state = 123)"
   ]
  },
  {
   "attachments": {},
   "cell_type": "markdown",
   "metadata": {},
   "source": [
    "### 5.1 Logistic Regression"
   ]
  },
  {
   "cell_type": "code",
   "execution_count": 16,
   "metadata": {},
   "outputs": [],
   "source": [
    "from sklearn.linear_model import LogisticRegression"
   ]
  },
  {
   "cell_type": "code",
   "execution_count": 17,
   "metadata": {},
   "outputs": [],
   "source": [
    "try:\n",
    "    reg = LogisticRegression(solver='liblinear')\n",
    "    reg.fit(X_train, Y_train)\n",
    "except Exception:\n",
    "    print('Logistic建模异常')"
   ]
  },
  {
   "attachments": {},
   "cell_type": "markdown",
   "metadata": {},
   "source": [
    "### 5.2 LDA"
   ]
  },
  {
   "cell_type": "code",
   "execution_count": 18,
   "metadata": {},
   "outputs": [],
   "source": [
    "try:\n",
    "    lda = LinearDiscriminantAnalysis()\n",
    "    lda.fit(X_train,Y_train)\n",
    "except Exception:\n",
    "    print('LDA建模异常')"
   ]
  },
  {
   "attachments": {},
   "cell_type": "markdown",
   "metadata": {},
   "source": [
    "### 5.3 KNN"
   ]
  },
  {
   "cell_type": "code",
   "execution_count": 19,
   "metadata": {},
   "outputs": [
    {
     "data": {
      "text/plain": [
       "KNeighborsClassifier(algorithm='auto', leaf_size=30, metric='minkowski',\n",
       "                     metric_params=None, n_jobs=None, n_neighbors=20, p=2,\n",
       "                     weights='uniform')"
      ]
     },
     "execution_count": 19,
     "metadata": {},
     "output_type": "execute_result"
    }
   ],
   "source": [
    "try:\n",
    "    knn_10 = neighbors.KNeighborsClassifier(n_neighbors = 10, p=2) #p=2表示使用欧式距离来挑选最近邻居\n",
    "    knn_10.fit(X_train, Y_train)\n",
    "except Exception:\n",
    "    print('KNN建模异常')\n",
    "\n",
    "knn_15 = neighbors.KNeighborsClassifier(n_neighbors = 15, p=2) #p=2表示使用欧式距离来挑选最近邻居\n",
    "knn_15.fit(X_train, Y_train)\n",
    "\n",
    "knn_20 = neighbors.KNeighborsClassifier(n_neighbors = 20, p=2) #p=2表示使用欧式距离来挑选最近邻居\n",
    "knn_20.fit(X_train, Y_train)"
   ]
  },
  {
   "attachments": {},
   "cell_type": "markdown",
   "metadata": {},
   "source": [
    "### 5.4 模型评估与选择"
   ]
  },
  {
   "cell_type": "code",
   "execution_count": 20,
   "metadata": {},
   "outputs": [],
   "source": [
    "#定义类用来进行模型评估\n",
    "class Model:\n",
    "    def __init__(self, model):\n",
    "        self.__model = model\n",
    "\n",
    "    def prediction(self, X):\n",
    "        return self.__model.predict(X)\n",
    "    \n",
    "    def prediction_p(self, X):\n",
    "        return self.__model.predict_proba(X)\n",
    "\n",
    "    def roc(self, X_test, Y_test, n = 2):\n",
    "        auc = round(roc_auc_score(Y_test, self.prediction(X_test)), n)\n",
    "        fpr, tpr, thresholds = roc_curve(Y_test, self.prediction_p(X_test)[:,1])\n",
    "        plt.figure()\n",
    "        plt.plot(fpr, tpr, label='AUC (area = %0.2f)' % auc)\n",
    "        plt.plot([0, 1], [0, 1],'r--')\n",
    "        plt.xlim([0.0, 1.0])\n",
    "        plt.ylim([0.0, 1.05])\n",
    "        plt.xlabel('False Positive Rate')\n",
    "        plt.ylabel('True Positive Rate')\n",
    "        plt.title('Receiver operating characteristic')\n",
    "        plt.legend(loc=\"lower right\")\n",
    "        plt.show()\n",
    "\n",
    "    def score(self, X_test, Y_test,n = 2):\n",
    "        prediction = self.prediction(X_test)\n",
    "        #预测准确率\n",
    "        accuracy = round(accuracy_score(Y_test,prediction), n)\n",
    "        #查准率\n",
    "        precision = round(precision_score(Y_test,prediction), n)\n",
    "        #召回率\n",
    "        recall = round(recall_score(Y_test, prediction), n)\n",
    "        #f1\n",
    "        f1 = round(f1_score(Y_test,prediction), n)\n",
    "        #auc值\n",
    "        auc = round(roc_auc_score(Y_test, self.prediction(X_test)), n)\n",
    "\n",
    "        print(\"该模型在测试集上的准确率（accuracy）：\", accuracy)\n",
    "        print(\"该模型在测试集上的查准率（precision）：\", precision)\n",
    "        print(\"该模型在测试集上的召回率（recall）：\", recall)\n",
    "        print(\"该模型在测试集上的f1 score：\", f1)\n",
    "        print(\"该模型在测试集上的AUC：\", auc)\n"
   ]
  },
  {
   "cell_type": "code",
   "execution_count": 21,
   "metadata": {},
   "outputs": [],
   "source": [
    "#创建Model类的对象\n",
    "model_logistic = Model(reg)\n",
    "model_lda = Model(lda)\n",
    "model_knn10 = Model(knn_10)\n",
    "model_knn15 = Model(knn_15)\n",
    "model_knn20 = Model(knn_20)"
   ]
  },
  {
   "cell_type": "code",
   "execution_count": 22,
   "metadata": {},
   "outputs": [
    {
     "name": "stdout",
     "output_type": "stream",
     "text": [
      "该模型在测试集上的准确率（accuracy）： 0.81\n",
      "该模型在测试集上的查准率（precision）： 0.73\n",
      "该模型在测试集上的召回率（recall）： 0.54\n",
      "该模型在测试集上的f1 score： 0.62\n",
      "该模型在测试集上的AUC： 0.73\n"
     ]
    }
   ],
   "source": [
    "#逻辑回归\n",
    "model_logistic.score(X_test, Y_test)"
   ]
  },
  {
   "cell_type": "code",
   "execution_count": 23,
   "metadata": {},
   "outputs": [
    {
     "name": "stdout",
     "output_type": "stream",
     "text": [
      "该模型在测试集上的准确率（accuracy）： 0.8\n",
      "该模型在测试集上的查准率（precision）： 0.71\n",
      "该模型在测试集上的召回率（recall）： 0.54\n",
      "该模型在测试集上的f1 score： 0.62\n",
      "该模型在测试集上的AUC： 0.72\n"
     ]
    }
   ],
   "source": [
    "#线性判别分析\n",
    "model_lda.score(X_test, Y_test)"
   ]
  },
  {
   "cell_type": "code",
   "execution_count": 24,
   "metadata": {},
   "outputs": [
    {
     "name": "stdout",
     "output_type": "stream",
     "text": [
      "该模型在测试集上的准确率（accuracy）： 0.76\n",
      "该模型在测试集上的查准率（precision）： 0.67\n",
      "该模型在测试集上的召回率（recall）： 0.36\n",
      "该模型在测试集上的f1 score： 0.47\n",
      "该模型在测试集上的AUC： 0.64\n"
     ]
    }
   ],
   "source": [
    "#knn\n",
    "model_knn10.score(X_test, Y_test)"
   ]
  },
  {
   "cell_type": "code",
   "execution_count": 25,
   "metadata": {},
   "outputs": [
    {
     "name": "stdout",
     "output_type": "stream",
     "text": [
      "该模型在测试集上的准确率（accuracy）： 0.76\n",
      "该模型在测试集上的查准率（precision）： 0.67\n",
      "该模型在测试集上的召回率（recall）： 0.38\n",
      "该模型在测试集上的f1 score： 0.49\n",
      "该模型在测试集上的AUC： 0.65\n"
     ]
    }
   ],
   "source": [
    "model_knn15.score(X_test, Y_test)"
   ]
  },
  {
   "cell_type": "code",
   "execution_count": 26,
   "metadata": {},
   "outputs": [
    {
     "name": "stdout",
     "output_type": "stream",
     "text": [
      "该模型在测试集上的准确率（accuracy）： 0.76\n",
      "该模型在测试集上的查准率（precision）： 0.68\n",
      "该模型在测试集上的召回率（recall）： 0.34\n",
      "该模型在测试集上的f1 score： 0.45\n",
      "该模型在测试集上的AUC： 0.63\n"
     ]
    }
   ],
   "source": [
    "model_knn20.score(X_test, Y_test)"
   ]
  },
  {
   "attachments": {},
   "cell_type": "markdown",
   "metadata": {},
   "source": [
    "综上，logistic回归模型在各方面表现都更加优秀，后续的分析将选择logistic回归模型"
   ]
  },
  {
   "cell_type": "code",
   "execution_count": 27,
   "metadata": {},
   "outputs": [
    {
     "data": {
      "image/png": "[encoded data removed]",
      "text/plain": [
       "<Figure size 432x288 with 1 Axes>"
      ]
     },
     "metadata": {
      "needs_background": "light"
     },
     "output_type": "display_data"
    }
   ],
   "source": [
    "model_logistic.roc(X_test, Y_test)"
   ]
  },
  {
   "attachments": {},
   "cell_type": "markdown",
   "metadata": {},
   "source": [
    "## 6. 用户划分"
   ]
  },
  {
   "attachments": {},
   "cell_type": "markdown",
   "metadata": {},
   "source": [
    "根据logistic模型的预测结果，按照流失风险从高到低将现有用户平均分为5个人群，分别为高流失风险，偏高，中等，偏低，低流失风险。通过用户细分，公司可以针对这个高流失风险用户提供针对性服务，也可以对高流失风险用户进行用户调研，详细了解用户对于产品的意见。"
   ]
  },
  {
   "cell_type": "code",
   "execution_count": 28,
   "metadata": {},
   "outputs": [],
   "source": [
    "#现有用户的流失概率\n",
    "pred_p = reg.predict_proba(X)[:,-1]\n",
    "index1 = np.argsort(-pred_p)[1:1406]\n",
    "index2 = np.argsort(-pred_p)[1407:2813]\n",
    "index3 = np.argsort(-pred_p)[2814:4220]\n",
    "index4 = np.argsort(-pred_p)[4221:5627]\n",
    "index5 = np.argsort(-pred_p)[5628:7032]"
   ]
  },
  {
   "cell_type": "code",
   "execution_count": 29,
   "metadata": {},
   "outputs": [],
   "source": [
    "Y_array = np.array(Y)\n",
    "p1 = sum(Y_array[index1])/len(index1)\n",
    "p2 = sum(Y_array[index2])/len(index2)\n",
    "p3 = sum(Y_array[index3])/len(index3)\n",
    "p4 = sum(Y_array[index4])/len(index4)\n",
    "p5 = sum(Y_array[index5])/len(index5)\n",
    "ave  =  sum(Y_array)/len(Y_array)"
   ]
  },
  {
   "cell_type": "code",
   "execution_count": 30,
   "metadata": {},
   "outputs": [
    {
     "data": {
      "text/plain": [
       "Text(2.5, 0.32, '平均流失率26.6%')"
      ]
     },
     "execution_count": 30,
     "metadata": {},
     "output_type": "execute_result"
    },
    {
     "data": {
      "image/png": "[encoded data removed]",
      "text/plain": [
       "<Figure size 800x600 with 1 Axes>"
      ]
     },
     "metadata": {
      "needs_background": "light"
     },
     "output_type": "display_data"
    }
   ],
   "source": [
    "label = (\"高流失风险\",\"偏高\",\"中等\",\"偏低\",\"低流失风险\")\n",
    "p = [p1,p2,p3,p4,p5]\n",
    "plt.figure(dpi=100, figsize=(8,6))\n",
    "plt.bar(label, p, color = (\"#2B7976\",\"#379F9C\",\"#48C1BD\",\"#6DCFCC\",\"#93DCDA\"))\n",
    "plt.axhline(ave, 0, 3,color = \"#BCBCBC\",ls = '--')\n",
    "plt.text(2.5,0.32,'平均流失率{:.1%}'.format(ave),fontsize=12,color = \"#174643\")"
   ]
  },
  {
   "attachments": {},
   "cell_type": "markdown",
   "metadata": {},
   "source": [
    "## 7. 结论与建议"
   ]
  },
  {
   "attachments": {},
   "cell_type": "markdown",
   "metadata": {},
   "source": [
    "1.\t针对老年用户、无亲属、无伴侣用户，制定专属的个性化服务，如推出温暖套餐等，提升用户的满意度。\n",
    "\n",
    "2.\t针对新注册客户，降低前10个月的月租费，以此渡过用户的流失高峰期。\n",
    "\n",
    "3.\t推出套餐，绑定技术性服务（OnlineSecurity、OnlineBackup、DeviceProtection、TechSupport）。\n",
    "\n",
    "4.\t重点改善Fiber optic互联网服务，网络电视、电影服务。\n",
    "\n",
    "5.\t针对签订Month-to-month合同的用户，可以推出一次性充值满减活动，促使用户签订长时间的合同。\n"
   ]
  }
 ],
 "metadata": {
  "kernelspec": {
   "display_name": "base",
   "language": "python",
   "name": "python3"
  },
  "language_info": {
   "codemirror_mode": {
    "name": "ipython",
    "version": 3
   },
   "file_extension": ".py",
   "mimetype": "text/x-python",
   "name": "python",
   "nbconvert_exporter": "python",
   "pygments_lexer": "ipython3",
   "version": "3.7.6"
  },
  "orig_nbformat": 4,
  "vscode": {
   "interpreter": {
    "hash": "766e8d648be62d995ac5ac3ff413c3eb49d7341508bfae7d53a7e7bf02fddc5b"
   }
  }
 },
 "nbformat": 4,
 "nbformat_minor": 2
}
